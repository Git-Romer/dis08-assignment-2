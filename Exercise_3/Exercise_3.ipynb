{
 "cells": [
  {
   "cell_type": "markdown",
   "metadata": {},
   "source": [
    "# This Notebook contains all solutions from the Exercise 3\n",
    "\n",
    "## Nr. 1\n",
    "\n",
    "- Pick a list within the Wikipedia like the list of sovereign states. Choose some other list on your own, based on your personal interests. The only requirement is that there are other Wikipedia articles linked within the list.\n",
    "## Nr.2\n",
    "\n",
    "- Get all the names and URLs to the corresponding items in the list and export them into a CSV file that has two columns (name and URL)."
   ]
  },
  {
   "cell_type": "code",
   "execution_count": 1,
   "metadata": {},
   "outputs": [],
   "source": [
    "import requests\n",
    "from bs4 import BeautifulSoup\n",
    "import csv\n",
    "url = \"https://en.wikipedia.org/wiki/List_of_countries_with_alcohol_prohibition\"\n",
    "content = requests.get(url).text\n",
    "soup = BeautifulSoup(content)\n",
    "def titles(soup):\n",
    "    present_list = soup.find_all(\"ul\")[1]\n",
    "    titles = []\n",
    "    for x in present_list.find_all(\"a\"):\n",
    "        titles.append(x.get(\"title\"))\n",
    "    titles = list(set(titles))\n",
    "    remove = [None, \"Indonesia\", \"COVID-19 pandemic in South Africa\", \"India\", \"South Yemen\", \"Union Territory\", \"Sharjah (emirate)\"]\n",
    "    for things in remove:\n",
    "        titles.remove(things)\n",
    "    titles_clean = sorted(titles)\n",
    "    return titles_clean\n",
    "def href(titles):\n",
    "    url = \"https://wikipedia.org/wiki/\"\n",
    "    href = []\n",
    "    links = []\n",
    "    for country in titles:\n",
    "        href.append(url)\n",
    "    for i in range(len(href)):\n",
    "        links.append(list(href[i] + titles[x] for x in range(len(titles))))\n",
    "    links = links.pop(0)\n",
    "    links_clean = []\n",
    "    for entries in links:\n",
    "        re = entries.replace(\" \", \"_\")\n",
    "        links_clean.append(re)\n",
    "    return links_clean\n",
    "def writer(title, link):\n",
    "    column_names = [\"Names\", \"URL\"]\n",
    "    with open(\"List_of_countries_with_alcohol_prohibition.csv\", \"w\", newline = \"\") as csvfile:\n",
    "        writer = csv.writer(csvfile, delimiter=\",\")\n",
    "        writer.writerow(column_names)\n",
    "        writer.writerows(zip(title, link))\n",
    "titles(soup)\n",
    "href(titles(soup))\n",
    "writer(titles(soup), href(titles(soup)))"
   ]
  }
 ],
 "metadata": {
  "kernelspec": {
   "display_name": "Python 3",
   "language": "python",
   "name": "python3"
  },
  "language_info": {
   "codemirror_mode": {
    "name": "ipython",
    "version": 3
   },
   "file_extension": ".py",
   "mimetype": "text/x-python",
   "name": "python",
   "nbconvert_exporter": "python",
   "pygments_lexer": "ipython3",
   "version": "3.7.6"
  }
 },
 "nbformat": 4,
 "nbformat_minor": 2
}
