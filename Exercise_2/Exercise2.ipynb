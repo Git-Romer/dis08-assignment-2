{
 "metadata": {
  "language_info": {
   "codemirror_mode": {
    "name": "ipython",
    "version": 3
   },
   "file_extension": ".py",
   "mimetype": "text/x-python",
   "name": "python",
   "nbconvert_exporter": "python",
   "pygments_lexer": "ipython3",
   "version": 3
  },
  "orig_nbformat": 2,
  "kernelspec": {
   "name": "python_defaultSpec_1596014817009",
   "display_name": "Python 3.8.0 64-bit"
  }
 },
 "nbformat": 4,
 "nbformat_minor": 2,
 "cells": [
  {
   "cell_type": "markdown",
   "metadata": {},
   "source": [
    "# This Notebook contains all solutions from the Exercise 2\n",
    "\n",
    "## Nr. 1.1"
   ]
  },
  {
   "cell_type": "code",
   "execution_count": null,
   "metadata": {},
   "outputs": [],
   "source": [
    "# Importing modules\n",
    "import csv\n",
    "import json\n",
    "# Opening the csv File\n",
    "with open(\"./lotr_clean.csv\", \"r\") as csvFile:\n",
    "    reader = csv.reader(csvFile, delimiter=\";\")\n",
    "    # Ignoring first line containing column names\n",
    "    next(reader)\n",
    "    # Creating base\n",
    "    data = {\"LOTR\": []}\n",
    "    # Iterating over all rows\n",
    "    for row in reader:\n",
    "        # Appending every data in all rows\n",
    "        data[\"LOTR\"].append({\"row\": row[0], \"characters\": row[1], \"dialogue\": row[2], \"movie\": row[3]})\n",
    "# Writing data to the json file\n",
    "with open(\"lotr_converted.json\", \"w\") as jsonFile:\n",
    "    json.dump(data, jsonFile, indent=4)"
   ]
  },
  {
   "cell_type": "markdown",
   "metadata": {},
   "source": [
    "## Nr. 1.2"
   ]
  },
  {
   "cell_type": "code",
   "execution_count": null,
   "metadata": {
    "tags": []
   },
   "outputs": [],
   "source": [
    "# Importing modules\n",
    "import json\n",
    "import os\n",
    "import csv\n",
    "for csvFilename in os.listdir(\".\"):\n",
    "    if not csvFilename.endswith(\".csv\"):\n",
    "        continue\n",
    "    with open(csvFilename, \"r\") as csvFile:\n",
    "        dialect = csv.Sniffer().sniff(csvFile.read(), delimiters=';,')\n",
    "        csvFile.seek(0)\n",
    "        reader = csv.DictReader(csvFile, dialect=dialect)\n",
    "        # Searching for column headings\n",
    "        column_names = reader.fieldnames\n",
    "        # Creating base for file\n",
    "        base = []\n",
    "        for row in reader:\n",
    "            base.extend([{column_names[i]:row[column_names[i]] for i in range(len(column_names))}])\n",
    "        # Writing data to the json file\n",
    "        with open(csvFilename + \"_converted_to.json\", \"w\") as jsonFile:\n",
    "            json.dump(base, jsonFile, indent=4)"
   ]
  },
  {
   "cell_type": "markdown",
   "metadata": {},
   "source": [
    "## Nr. 2"
   ]
  },
  {
   "cell_type": "code",
   "execution_count": null,
   "metadata": {
    "tags": []
   },
   "outputs": [],
   "source": [
    "import json\n",
    "import csv\n",
    "with open(\"./movies.json\", \"r\") as jsonfile:\n",
    "    dataset = json.load(jsonfile)\n",
    "    # Getting all titles\n",
    "    years = []\n",
    "    years.append(dataset.keys())\n",
    "    # Getting all years\n",
    "    titles = []\n",
    "    for x in dataset.keys():\n",
    "        titles.append(list(dataset[x].keys()))\n",
    "    # Getting all genres\n",
    "    genre = []\n",
    "    for x in dataset.keys():\n",
    "        for y in dataset[x].keys():\n",
    "            genre.append(list(dataset[x][y][\"genre\"]))\n",
    "    # genre/year\n",
    "    genre_per_year = {}\n",
    "    for x in dataset.keys():\n",
    "        for y in dataset[x].keys():\n",
    "            genre_per_year.update({x: dataset[x][y][\"genre\"]})\n",
    "    print(genre_per_year)\n",
    "# with open(\"./movies.csv\", \"w\", newline=\"\") as csvfile:\n",
    "#     writer = csv.writer(csvfile, delimiter=\";\")\n",
    "#     writer.writerow([\"year\",\"genre\"])\n",
    "#     for rows in years:\n",
    "#         writer.writerow([rows])\n",
    "#     for rows in range(len(genre)):\n",
    "#         writer.writerow([genre[rows]])"
   ]
  }
 ]
}