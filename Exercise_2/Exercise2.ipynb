{
 "metadata": {
  "language_info": {
   "codemirror_mode": {
    "name": "ipython",
    "version": 3
   },
   "file_extension": ".py",
   "mimetype": "text/x-python",
   "name": "python",
   "nbconvert_exporter": "python",
   "pygments_lexer": "ipython3",
   "version": "3.8.0-final"
  },
  "orig_nbformat": 2,
  "kernelspec": {
   "name": "python38064bit604ea35cef5f47b299242b69d90df170",
   "display_name": "Python 3.8.0 64-bit"
  }
 },
 "nbformat": 4,
 "nbformat_minor": 2,
 "cells": [
  {
   "cell_type": "markdown",
   "metadata": {},
   "source": [
    "# This Notebook contains all solutions from the Exercise 2\n",
    "\n",
    "## Nr. 1.1"
   ]
  },
  {
   "cell_type": "code",
   "execution_count": null,
   "metadata": {},
   "outputs": [],
   "source": [
    "# Importing modules\n",
    "import csv\n",
    "import json\n",
    "# Opening the csv File\n",
    "with open(\"./lotr_clean.csv\", \"r\") as csvFile:\n",
    "    reader = csv.reader(csvFile, delimiter=\";\")\n",
    "    # Ignoring first line containing column names\n",
    "    next(reader)\n",
    "    # Creating base\n",
    "    data = {\"LOTR\": []}\n",
    "    # Iterating over all rows\n",
    "    for row in reader:\n",
    "        # Appending every data in all rows\n",
    "        data[\"LOTR\"].append({\"row\": row[0], \"characters\": row[1], \"dialogue\": row[2], \"movie\": row[3]})\n",
    "# Writing data to the json file\n",
    "with open(\"lotr_converted.json\", \"w\") as jsonFile:\n",
    "    json.dump(data, jsonFile, indent=4)"
   ]
  },
  {
   "cell_type": "markdown",
   "metadata": {},
   "source": [
    "## Nr. 1.2"
   ]
  },
  {
   "cell_type": "code",
   "execution_count": null,
   "metadata": {
    "tags": []
   },
   "outputs": [],
   "source": [
    "# Importing modules\n",
    "import json\n",
    "import os\n",
    "import csv\n",
    "print(\"Importing files...\")\n",
    "for csvFilename in os.listdir(\".\"):\n",
    "    if not csvFilename.endswith(\".csv\"):\n",
    "        continue\n",
    "    print(\"Working...\")\n",
    "    with open(csvFilename, \"r\") as csvFile:\n",
    "        dialect = csv.Sniffer().sniff(csvFile.read(1000), delimiters=\";,\")\n",
    "        csvFile.seek(0)\n",
    "        reader = csv.DictReader(csvFile, delimiter = dialect.delimiter)\n",
    "        # Searching for column headings\n",
    "        column_names = reader.fieldnames\n",
    "        # Creating base for file\n",
    "        base = []\n",
    "        for row in reader:\n",
    "            base.extend([{column_names[i]:row[column_names[i]] for i in range(len(column_names))}])\n",
    "        # Writing data to the json file\n",
    "        with open(csvFilename + \"_converted_to.json\", \"w\") as jsonFile:\n",
    "            json.dump(base, jsonFile, indent=4)\n",
    "print(\"Done!\")\n",
    "input(\"Press any key to continue.\")"
   ]
  },
  {
   "cell_type": "markdown",
   "metadata": {},
   "source": [
    "## Nr. 2"
   ]
  },
  {
   "cell_type": "code",
   "execution_count": null,
   "metadata": {
    "tags": []
   },
   "outputs": [],
   "source": [
    "import json\n",
    "import csv\n",
    "from collections import Counter\n",
    "with open(\"./movies.json\", \"r\") as jsonfile:\n",
    "    dataset = json.load(jsonfile)\n",
    "    def count_genre(year):\n",
    "        genres = []\n",
    "        for films in dataset[year].keys():\n",
    "            genres.append(list(dataset[year][films][\"genre\"]))\n",
    "        genres = dict(Counter([y for x in genres for y in x]))\n",
    "        return(genres)\n",
    "    unique_genres = []\n",
    "    for x in dataset.keys():\n",
    "        for y in dataset[x].keys():\n",
    "            unique_genres.append(list(dataset[x][y][\"genre\"]))\n",
    "    sum_genres = [y for x in unique_genres for y in x]\n",
    "    sum_genres = sorted(list(dict.fromkeys(sum_genres)))\n",
    "    del sum_genres[0]\n",
    "    years = []\n",
    "    years.append(list(dataset.keys()))\n",
    "    years = [y for x in years for y in x]\n",
    "    dictio = {}\n",
    "    for x in years:\n",
    "        dictio[x] = count_genre(x)\n",
    "    fieldnames = [\"year\"]\n",
    "    fieldnames.extend(sum_genres)\n",
    "with open(\"./movies.csv\", \"w\", newline=\"\") as csvfile:\n",
    "    writer = csv.writer(csvfile, delimiter=\",\")\n",
    "    writer.writerow(fieldnames)\n",
    "    for x in years:\n",
    "        list1 = [int(x)]\n",
    "        for y in sum_genres:\n",
    "            try:\n",
    "                list1.append(dictio[x][y])\n",
    "            except KeyError:\n",
    "                list1.append(0)\n",
    "        writer.writerow(list1)"
   ]
  }
 ]
}