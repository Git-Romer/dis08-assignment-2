{
 "metadata": {
  "language_info": {
   "codemirror_mode": {
    "name": "ipython",
    "version": 3
   },
   "file_extension": ".py",
   "mimetype": "text/x-python",
   "name": "python",
   "nbconvert_exporter": "python",
   "pygments_lexer": "ipython3",
   "version": 3
  },
  "orig_nbformat": 2,
  "kernelspec": {
   "name": "python_defaultSpec_1595928994306",
   "display_name": "Python 3.8.0 64-bit"
  }
 },
 "nbformat": 4,
 "nbformat_minor": 2,
 "cells": [
  {
   "cell_type": "markdown",
   "metadata": {},
   "source": [
    "# This Notebook contains all solutions from the Exercise 2\n",
    "\n",
    "## Nr. 1.1"
   ]
  },
  {
   "cell_type": "code",
   "execution_count": 1,
   "metadata": {},
   "outputs": [],
   "source": [
    "# Importing modules\n",
    "import csv\n",
    "import json\n",
    "# Opening the csv File\n",
    "with open(\"./lotr_clean.csv\", \"r\") as csvFile:\n",
    "    reader = csv.reader(csvFile, delimiter=\";\")\n",
    "    # Ignoring first line containing column names\n",
    "    next(reader)\n",
    "    # Creating base\n",
    "    data = {\"LOTR\": []}\n",
    "    # Iterating over all rows\n",
    "    for row in reader:\n",
    "        # Appending every data in all rows\n",
    "        data[\"LOTR\"].append({\"row\": row[0], \"characters\": row[1], \"dialogue\": row[2], \"movie\": row[3]})\n",
    "# Writing data to the json file\n",
    "with open(\"lotr_converted.json\", \"w\") as jsonFile:\n",
    "    json.dump(data, jsonFile, indent=4)"
   ]
  }
 ]
}