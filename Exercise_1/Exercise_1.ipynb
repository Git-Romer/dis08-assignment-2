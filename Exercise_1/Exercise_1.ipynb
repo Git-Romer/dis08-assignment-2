{
 "cells": [
  {
   "cell_type": "markdown",
   "metadata": {},
   "source": [
    "# This Notebook contains all solutions from the Exercise 1"
   ]
  },
  {
   "cell_type": "markdown",
   "metadata": {},
   "source": [
    "## Exercise 1"
   ]
  },
  {
   "cell_type": "markdown",
   "metadata": {},
   "source": [
    "### Nr. 1"
   ]
  },
  {
   "cell_type": "code",
   "execution_count": 1,
   "metadata": {
    "tags": []
   },
   "outputs": [
    {
     "output_type": "stream",
     "name": "stdout",
     "text": "['DEAGOL', 'SMEAGOL', 'DEAGOL', 'SMEAGOL', 'SMEAGOL', 'SMEAGOL', 'SMEAGOL', 'DEAGOL', 'SMEAGOL', 'SMEAGOL', 'SMEAGOL', '(GOLLUM', 'SMEAGOL', 'SMEAGOL', 'SMEAGOL', 'SMEAGOL', 'FRODO', 'FRODO', 'MERRY', 'GIMLI', 'FRODO', 'GOLLUM', 'GOLLUM', 'SAM', 'SAM', 'FRODO', 'GOLLUM', 'SAM', 'GOLLUM', 'SAM', 'FRODO', 'SAM', 'FRODO', 'FRODO', 'GANDALF', 'ARAGORN', 'ARAGORN', 'ARAGORN', 'ARAGORN', 'FRODO', 'FRODO', 'PIPPIN', 'HOBBIT', 'ROSIE', 'SAM', 'FRODO', 'SAM', 'GOLLUM', 'MERRY', 'PIPPIN', 'MERRY', 'PIPPIN', 'MERRY', 'PIPPIN', 'MERRY', 'GIMLI', 'PIPPIN', 'FRODO', 'SAM', 'FRODO', 'SAM', 'FRODO', 'FRODO', 'BILBO', 'FRODO', 'BILBO', 'PIPPIN', 'GIMLI', 'GANDALF', 'MERRY', 'TREEBEARD', 'ARAGORN', 'GANDALF', 'GIMLI', 'GANDALF', 'SARUMAN', 'THEODEN', 'SARUMAN', 'GANDALF', 'FRODO', 'BILBO', 'BILBO', 'GALADRIL', 'ELROND', 'BILBO', 'GANDALF', 'SAM', 'FRODO', 'SAM', 'FRODO', 'SARUMAN', 'GIMLI', 'GANDALF', 'SARUMAN', 'GANDALF', 'THEODEN', 'SARUMAN', 'THEODEN', 'SARUMAN', 'GRIMA', 'FRODO VOICE OVER', 'SAM', 'PIPPIN', 'GANDALF', 'PIPPIN', 'GANDALF', 'PIPPIN', 'GANDALF', 'THEODEN', 'WITCH KING', 'EOWYN', 'EOWYN', 'EOWYN', 'FARAMIR', 'FARAMIR', 'SAM', 'SARUMAN', 'GRIMA', 'GANDALF', 'SARUMAN', 'GANDALF', 'TREEBEARD', 'ARAGORN', 'TREEBEARD', 'GANDALF', 'WITCH KING', 'ORC', 'GIMLI', 'WITCH KING', 'EOWYN', 'SAM', 'ORC', 'ORC', 'ORC', 'ORC', 'ORC', 'FRODO', 'SAM', 'SAM', 'FRODO', 'SAM', 'FRODO', 'SAM', 'Â\\xa0GANDALF', 'SOLDIERS ON GATE', 'GOTHMOG', 'ORC', 'GENERAL', 'FRODO', 'GENERAL', 'CAPTAIN', 'FRODO', 'SOLDIER', 'GANDALF', 'PIPPIN', 'GANDALF', 'GANDALF', 'WITCH KING', 'PIPPIN', 'PIPPIN', 'WITCH KING', 'SAM', 'SAM', 'SAM', 'FRODO', 'SAM', 'SAM', 'SAM', 'PIPPIN', 'ARAGORN', 'MOUTH OF SAURON', 'MOUTH OF SAURON', 'GANDALF', 'EOWYN', 'GOTHMOG', 'THEODEN', 'EOMER', 'THEODEN', 'EOWYN', 'THEODEN', 'ARMY', 'THEODEN', 'ARMY', 'THEODEN', 'THEODEN', 'MOUTH OF SAURON', 'PIPPIN', 'PIPPIN', 'GANDALF', 'MERRY', 'GANDALF', 'MOUTH OF SAURON', 'ARAGORN', 'ARAGORN', 'BOSON', 'ARAGORN', 'GIMLI', 'GIMLI', 'MERCENARY', 'EOWYN/MERRY', 'THEODEN', 'GOTHMOG', 'MERRY', 'THEODEN', 'GOTHMOG', 'DENETHOR', 'GANDALF', 'DENETHOR', 'DENETHOR', 'PIPPIN', 'DENETHOR', 'DENETHOR', 'GANDALF', 'MOUTH OF SAURON', 'GIMLI', 'ARAGORN', 'ARAGORN', 'GOLLUM', 'FRODO', 'GOLLUM', 'FRODO', 'GOLLUM', 'FRODO', 'FRODO', 'GOLLUM', 'GOLLUM', 'FRODO', 'GOLLUM', 'FRODO', 'GOLLUM', 'EOMER', 'THEODEN', 'THEODEN', 'THEODEN', 'ROHIRRIM', 'EOWYN', 'EOMER', 'THEODEN', 'EOWYN', 'FRODO', 'FRODO', 'SAM', 'GALADRIEL VOICEOVER', 'FRODO', 'GOLLUM', 'GOLLUM', 'FRODO', 'SMEAGOL', 'FRODO', 'GOLLUM', 'FRODO', 'GIMLI', 'LEGOLAS', 'GIMLI', 'LEGOLAS', 'ARAGORN', 'ARAGORN', 'GALADRIEL', 'EOMER', 'THEODEN', 'EOWYN', 'MERRY', 'EOMER', 'THEODEN', 'EOWYN', 'MERRY', 'GANDALF', 'GIMLI', 'THEODEN', 'THEODEN', 'MERRY', 'THEODEN', 'MERRY', 'THEODEN', 'EOWYN', 'MERRY', 'EOMER', 'THEODEN', 'GIMLI', 'LEGOLAS', 'GIMLI', 'LEGOLAS', 'GIMLI', 'ARAGORN', 'KING OF THE DEAD', 'ARAGORN', 'KING OF THE DEAD', 'ARAGORN', 'KING OF THE DEAD', 'ARAGORN', 'KING OF THE DEAD', 'SOLDIER', 'SOLDIER', 'SOLDIER', 'GRIMBOLD', 'SOLDIER', 'KING OF THE DEAD', 'ARAGORN', 'GIMLI', 'ARAGORN', 'ARAGORN', 'GIMLI', 'ARAGORN', 'ARAGORN', 'KING OF THE DEAD', 'SOLDIER', 'IROLAS', 'DENETHOR', 'IROLAS', 'GOTHMOG', 'THEODEN', 'SOLDIER', 'THEODEN', 'ARAGORN', 'THEODEN', 'ARAGORN', 'LEGOLAS', 'EOMER', 'GIMLI', 'LEGOLAS', 'ORC', 'DENETHOR', 'PIPPIN', 'DENETHOR', 'PIPPIN', 'DENETHOR', 'PIPPIN', 'DENETHOR', 'DENETHOR', 'GANDALF', 'GANDALF', 'GOTHMOG', 'SOLDIER', 'EOMER', 'GIMLI', 'EOWYN', 'MERRY', 'EOWYN', 'EOMER', 'EOWYN', 'EOMER', 'EOWYN', 'EOMER', 'SOLDIER', 'SOLDIER', 'SOLDIER', 'SOLDIER', 'GANDALF', 'GANDALF', 'GANDALF', 'GANDALF', 'PIPPIN', 'GANDALF', 'GANDALF', 'GOTHMOG', 'ORC', 'THEODEN', 'ARAGORN', 'ELROND', 'ARAGORN', 'ELROND', 'ARAGORN', 'ELROND', 'ARAGORN', 'ELROND', 'ARAGORN', 'ARAGORN', 'ELROND', 'ARAGORN', 'EOWYN', 'PIPPIN', 'FARAMIR', 'PIPPIN', 'FARAMIR', 'PIPPIN', 'FARAMIR', 'GOTHMOG', 'ORC', 'GOTHMOG', 'ORCS', 'ORCS', 'ARAGORN', 'EOWYN', 'ARAGORN', 'EOWYN', 'ARAGORN', 'ARAGORN', 'GIMLI', 'ARAGORN', 'GIMLI', 'LEGOLAS', 'GIMLI', 'SOLDIER', 'GAMLING', 'THEODEN', 'PIPPIN', 'FARAMIR', 'PIPPIN', 'PIPPIN', 'DENETHOR', 'FARAMIR', 'DENETHOR', 'FARAMIR', 'DENETHOR', 'FARAMIR', 'DENETHOR', 'GAMLING', 'THEODEN', 'THEODEN', 'EOWYN', 'THEODEN', 'FARAMIR', 'DENETHOR', 'GOLLUM', 'SAM', 'GOLLUM', 'SAM', 'GOLLUM', 'SAM', 'FRODO', 'SAM', 'FRODO', 'MADRIL', 'FARAMIR', 'DAMROD', 'FARAMIR', 'SAM', 'GOLLUM', 'SAM', 'FRODO', 'GOLLUM', 'SAM', 'FRODO', 'SAM', 'FRODO', 'SAM', 'FRODO', 'SAM', 'FRODO', 'SAM', 'FRODO', 'FARAMIR', 'GOTHMOG', 'SOLDIERS', 'SOLDIERS IN MINAS TIRITH', 'SOLDIER', 'FARAMIR', 'IROLAS', 'GANDALF', 'GANDALF', 'FARAMIR', 'PIPPIN', 'GANDALF', 'SAM', 'GOLLUM', 'SAM', 'FRODO', 'SAM', 'FRODO', 'SAM', 'FRODO', 'GANDALF', 'FARAMIR', 'GANDALF', 'DENETHOR', 'PIPPIN', 'GANDALF', 'GANDALF', 'GANDALF', 'FARAMIR', 'GANDALF', 'PIPPIN', 'GANDALF', 'DENETHOR', 'FARAMIR', 'DENETHOR', 'FARAMIR', 'DENETHOR', 'FARAMIR', 'DENETHOR', 'PIPPIN', 'ORCS', 'GANDALF VOICEOVER', 'SAM', 'FRODO', 'SAM', 'FRODO', 'FRODO', 'SAM', 'FRODO', 'SAM', 'FRODO', 'SAM', 'SMEAGOL', 'GOLLUM', 'SMEAGOL', 'GOLLUM', 'DENETHOR', 'FARAMIR', 'DENETHOR', 'FARAMIR', 'DENETHOR', 'GOLLUM', 'GOLLUM', 'GOLLUM', 'SAM', 'GOLLUM', 'WITCH KING', 'SMEAGOL', 'GOLLUM', 'SMEAGOL', 'GOLLUM', 'SMEAGOL', 'SAM', 'FRODO', 'GOLLUM', 'SMEAGOL', 'GOLLUM', 'SMEAGOL', 'SMEAGOL', 'EOMER', 'LEGOLAS', 'GIMLI', 'LEGOLAS', 'GIMLI', 'WITCH KING', 'GOTHMOG', 'WITCH KING', 'SOLDIER 1', 'SOLDIER 2', 'GANDALF', 'GOLLUM', 'LEGOLAS', 'GIMLI', 'MERRY', 'PIPPIN', 'MERRY', 'PIPPIN', 'PIPPIN', 'MERRY', 'PIPPIN', 'MERRY', 'MERRY', 'PIPPIN', 'MERRY', 'PIPPIN', 'MERRY', 'PIPPIN', 'MERRY', 'PIPPIN', 'MERRY', 'FARAMIR', 'SAM', 'SAM', 'FARAMIR', 'FARAMIR', 'FRODO', 'FARAMIR', 'FARAMIR', 'GOLLUM', 'FARAMIR', 'GOLLUM', 'FRODO', 'FARAMIR', 'FRODO', 'FARAMIR', 'SAM', 'SAM', 'GOLLUM', 'SAM', 'GOLLUM', 'SAM', 'MADRIL', 'SAM', 'FRODO', 'SAM', 'FARAMIR', 'SAM', 'SOLDIER', 'SAM', 'FRODO', 'FRODO', 'FARAMIR', 'FARAMIR', 'THEODEN', 'ARAGORN', 'WOMAN', 'WOMAN', 'ARAGORN', 'ARAGORN', 'GAMLING', 'ARAGORN', 'THEODEN', 'ARAGORN', 'GIMLI', 'HALDIR', 'ARAGORN', 'THEODEN', 'ARAGORN', 'THEODEN', 'ARAGORN', 'GIMLI', 'GANDALF VOICEOVER', 'THEODEN', 'GIMLI', 'THEODEN', 'THEODEN', 'THEODEN', 'ARAGORN', 'GANDALF', 'SOLDIER', 'SOLDIER', 'THEODEN', 'GAMLING', 'THEODEN', 'ARAGORN', 'THEODEN', 'ARAGORN', 'THEODEN', 'GIMLI', 'ARAGORN', 'GIMLI', 'EOMER', 'THEODEN', 'EOMER', 'PIPPIN', 'TREEBEARD', 'TREEBEARD', 'MERRY', 'TREEBEARD', 'SAM', 'SAM', 'SAM', 'ARAGORN', 'GIMLI', 'GIMLI', 'ARAGORN', 'THEODEN', 'SOLDIER', 'SOLDIER', 'SOLDIER', 'SOLDIER', 'THEODEN', 'SOLDIER', 'THEODEN', 'LEGOLAS', 'THEODEN', 'GAMLING', 'FRODO', 'SAM', 'THEODEN', 'SAM VOICEOVER', 'SAM', 'FRODO', 'SAM', 'FARAMIR', 'MADRIL', 'FARAMIR', 'THEODEN', 'GAMLING', 'THEODEN', 'ARAGORN', 'GAMLING', 'TREEBEARD', 'PIPPIN', 'TREEBEARD', 'PIPPIN', 'TREEBEARD', 'MERRY', 'PIPPIN', 'SOLDIER', 'SOLDIER', 'FRODO', 'FARAMIR', 'FRODO', 'TREEBEARD', 'TREEBEARD', 'TREEBEARD', 'PIPPIN', 'TREEBEARD', 'TREEBEARD', 'TREEBEARD', 'GIMLI', 'GIMLI', 'LEGOLAS', 'GIMLI', 'ARAGORN', 'GIMLI', 'LEGOLAS', 'PIPPIN', 'MERRY', 'TREEBEARD', 'MERRY', 'TREEBEARD', 'THEODEN', 'ARAGORN', 'LEGOLAS', 'ARAGORN', 'GIMLI', 'THEODEN', 'GAMLING', 'OLD MAN', 'ARAGORN', 'GIMLI', 'ARAGORN', 'GIMLI', 'ARAGORN', 'GIMLI', 'LEGOLAS', 'GIMLI', 'LEGOLAS', 'PIPPIN', 'TREEBEARD', 'MERRY', 'TREEBEARD', 'PIPPIN', 'MERRY', 'TREEBEARD', 'MERRY', 'TREEBEARD', 'GIMLI', 'ARAGORN', 'THEODEN', 'ARAGORN', 'ARAGORN', 'THEODEN', 'THEODEN', 'GIMLI', 'ARAGORN', 'ARAGORN', 'ARAGORN', 'TREEBEARD', 'MERRY', 'TREEBEARD', 'MERRY', 'MERRY', 'TREEBEARD', 'PIPPIN', 'MERRY', 'SOLDIER', 'BOROMIR', 'CROWD', 'BOROMIR', 'CROWD', 'BOROMIR', 'FARAMIR', 'BOROMIR', 'BOROMIR', 'BOROMIR', 'FARAMIR', 'BOROMIR', 'DENETHOR', 'BOROMIR', 'DENETHOR', 'BOROMIR', 'DENETHOR', 'DENETHOR', 'FARAMIR', 'DENETHOR', 'FARAMIR', 'BOROMIR', 'BOROMIR', 'DENETHOR', 'BOROMIR', 'DENETHOR', 'BOROMIR', 'DENETHOR', 'BOROMIR', 'DENETHOR', 'FARAMIR', 'DENETHOR', 'BOROMIR', 'SOLDIER', 'FARAMIR', 'FARAMIR', 'FARAMIR', 'GOLLUM', 'FRODO', 'FRODO', 'GOLLUM', 'FRODO', 'FRODO', 'ARWEN', 'ARAGORN', 'ELROND', 'ARWEN', 'ELROND', 'GOLLUM', 'FARAMIR', 'GOLLUM', 'SMEAGOL', 'GOLLUM', 'SMEAGOL', 'GOLLUM', 'SMEAGOL', 'GOLLUM', 'ARWEN', 'ELROND', 'ELROND VOICEOVER', 'ELROND VOICEOVER', 'ELROND', 'ELROND', 'ARWEN', 'GALADRIEL', 'FARAMIR', 'MADRIL', 'FARAMIR', 'MADRIL', 'FARAMIR', 'MADRIL', 'SMEAGOL', 'FARAMIR', 'GOLLUM', 'SAM', 'FRODO', 'SAM', 'FARAMIR', 'FRODO', 'SAM', 'SOLDIER', 'SAM', 'SOLDIER', 'FARAMIR', 'ARAGORN', 'FARAMIR', 'FARAMIR', 'SAM', 'FARAMIR', 'FARAMIR', 'FRODO', 'FARAMIR', 'SAM', 'FARAMIR', 'FRODO', 'FARAMIR', 'FRODO', 'WOMAN', 'GIMLI', 'ARAGORN', 'LEGOLAS', 'ARAGORN', 'THEODEN', 'ARAGORN', 'THEODEN', 'ARAGORN', 'THEODEN', 'ARAGORN', 'THEODEN', 'THEODEN', 'THEODEN', 'FARAMIR', 'FRODO', 'FARAMIR', 'FRODO', 'FARAMIR', 'GIMLI', 'THEODEN', 'THEODEN', 'ARAGORN', 'THEODEN', 'ARAGORN', 'THEODEN', 'ARAGORN', 'THEODEN', 'GAMLING', 'ARWEN VOICEOVER', 'ARAGORN ', 'ARWEN', 'ARAGORN', 'GOLLUM', 'SMEAGOL', 'GOLLUM', 'SMEAGOL', 'GOLLUM', 'SMEAGOL', 'GOLLUM', 'SMEAGOL', 'THEODEN', 'TREEBEARD', 'MERRY', 'TREEBEARD', 'MERRY', 'TREEBEARD', 'ARWEN', 'ARAGORN', 'ARWEN', 'ARAGORN', 'ARWEN', 'EOWYN', 'ELROND', 'ARAGORN', 'ELROND', 'ARAGORN', 'ELROND', 'ARWEN', 'ARWEN', 'GOLLUM', 'SMEAGOL', 'GOLLUM', 'SMEAGOL', 'GOLLUM', 'SMEAGOL', 'GOLLUM', 'SMEAGOL', 'GOLLUM', 'SMEAGOL', 'GOLLUM', 'SMEAGOL', 'SMEAGOL', 'SARUMAN', 'GRIMA', 'SARUMAN', 'GRIMA', 'SARUMAN', 'THEODEN', 'THEODEN', 'ARAGORN', 'ARWEN', 'ARAGORN', 'ARWEN', 'ARAGORN', 'ARWEN', 'ARAGORN', 'ARWEN', 'ARAGORN', 'ARWEN', 'EOWYN', 'ARAGORN', 'GAMLING', 'HAMA', 'GAMLING', 'LEGOLAS', 'SMEAGOL', 'GOLLUM', 'GOLLUM', 'SAM', 'GOLLUM', 'SAM', 'SAM', 'GOLLUM', 'SAM', 'SAM', 'SAM', 'GOLLUM', 'SAM', 'SAM', 'SAM', 'ARAGORN', 'EOWYN', 'ARAGORN', 'EOWYN', 'ARAGORN', 'GRIMA', 'SARUMAN', 'SAM', 'FRODO', 'SAM', 'FRODO', 'SAM', 'FRODO', 'SAM', 'THEODEN', 'ARAGORN', 'ARAGORN', 'THEODEN', 'GIMLI', 'THEODEN', 'EOWYN', 'THEODEN', 'THEODEN', 'GIMLI', 'EOWYN', 'GIMLI', 'EOWYN', 'GIMLI', 'GOLLUM', 'SAM', 'GOLLUM', 'FRODO', 'SAM', 'SAM', 'FRODO', 'FRODO', 'SAM', 'FARAMIR', 'FRODO', 'FARAMIR', 'GIMLI', 'FRODO', 'SAM', 'FRODO', 'SAM', 'FRODO', 'SAM', 'GIMLI', 'LEGOLAS', 'GIMLI', 'GIMLI', 'SHARKU', 'LEGOLAS', 'THEODEN', 'THEODEN', 'PEOPLE', 'LADY', 'FREDA', 'MORWEN', 'EOWYN', 'SOLDIER', 'EOWYN', 'EOWYN', 'THEODEN', 'GANDALF', 'THEODEN', 'GANDALF', 'EOWYN', 'FREDA', 'ARAGORN', 'SAM', 'ARAGORN', 'ARAGORN', 'ARAGORN', 'GIMLI', 'GANDALF', 'ARAGORN', 'GIMLI', 'GIMLI', 'GIMLI', 'THEODEN', 'THEODEN', 'EOWYN', 'GIMLI', 'GAMLING', 'EOWYN', 'THEODEN', 'GIMLI', 'EOWYN', 'GIMLI', 'THEODEN', 'GAMLING', 'THEODEN', 'GRIMA', 'GRIMA', 'EOWYN', 'GANDALF', 'ARAGORN', 'THEODEN', 'ARAGORN', 'THEODEN', 'HAMA', 'HAMA', 'GANDALF', 'GIMLI', 'ARAGORN', 'GANDALF', 'LEGOLAS', 'GIMLI', 'SAM', 'FRODO', 'SAM', 'EYE OF SAURON', 'ARAGORN', 'SAM', 'GOLLUM', 'FRODO', 'GANDALF', 'GANDALF', 'ARAGORN', 'GANDALF', 'GOLLUM', 'SAM', 'GOLLUM', 'FRODO', 'SAM', 'SAM', 'FRODO', 'EOWYN', 'ARAGORN', 'EOWYN', 'EOWYN', 'ARAGORN', 'EOWYN', 'EOWYN', 'ARAGORN', 'EOWYN', 'ARAGORN', 'EOWYN', 'PIPPIN', 'ORC', 'ORC', 'MERRY', 'GRIMA', 'SARUMAN', 'GRIMA', 'SARUMAN', 'GRIMA', 'SARUMAN', 'SARUMAN', 'SARUMAN', 'SARUMAN', 'PIPPIN', 'TREEBEARD', 'MERRY', 'TREEBEARD', 'PIPPIN', 'PIPPIN', 'SAM', 'FRODO', 'SAM', 'SAM', 'SAM', 'FRODO', 'SAM', 'SAM', 'GOLLUM', 'ARAGORN', 'GANDALF', 'ARAGORN', 'ROHAN STABLEMAN', 'ARAGORN', 'ARAGORN', 'EOWYN', 'ARAGORN', 'ARAGORN', 'EOWYN', 'ARAGORN', 'LEGOLAS', 'EOWYN', 'ARAGORN', 'LEGOLAS', 'GIMLI', 'ORC', 'THEODEN', 'EOWYN', 'THEODEN', 'FRODO', 'GOLLUM', 'SAM', 'GOLLUM', 'SAM', 'GOLLUM', 'FRODO', 'SAM', 'FRODO', 'GOLLUM', 'GOLLUM', 'SAM', 'GOLLUM', 'SAM', 'FRODO', 'GOLLUM', 'FRODO', 'SAM', 'FRODO', 'SAM', 'PIPPIN', 'PIPPIN', 'MERRY', 'PIPPIN', 'MERRY', 'PIPPIN', 'GORBAG', 'ARGORN', 'LEGOLAS', 'GIMLI', 'ARAGORN', 'LEGOLAS', 'ARGORN', 'LEGOLAS', 'GIMLI', 'MERRY', 'PIPPIN', 'TREEBEARD', 'MERRY', 'ORC', 'PIPPIN', 'TREEBEARD', 'PIPPIN', 'TREEBEARD', 'MERRY', 'PIPPIN', 'TREEBEARD', 'PIPPIN', 'TREEBEARD', 'MERRY', 'GANDALF VOICE OVER', 'FRODO VOICE OVER', 'GANDALF VOICE OVER', 'GANDALF', 'BOROMIR ', 'FRODO', 'MERRY', 'SAM', 'SAM', 'SAM', 'MERRY', 'PIPPIN', 'FRODO', 'SAM', 'FRODO', 'SAM', 'FRODO', 'DENETHOR', 'DENETHOR', 'DENETHOR', 'GANDALF', 'GANDALF', 'GANDALF', 'SAM', 'SAM', 'GIMLI', 'LEGOLAS', 'ORC', 'UGLUK', 'PIPPIN', 'MERRY', 'PIPPIN', 'MERRY', 'GANDALF', 'FARAMIR', 'MADRIL', 'GOTHMOG', 'SOLDIER', 'EOWYN', 'THEODEN', 'THEODEN', 'KING OF THE DEAD', 'GIMLI', 'KING OF THE DEAD', 'ARAGORN', 'PIPPIN', 'EOMER', 'EOMER', 'FRODO', 'GOLLUM', 'MERRY', 'PIPPIN', 'MERRY', 'MERRY', 'PIPPIN', 'MERRY', 'PIPPIN', 'MERRY', 'PIPPIN', 'MERRY', 'PIPPIN', 'MERRY', 'PIPPIN', 'SHAGRAT', 'GORBAG', 'SHAGRAT', 'GORBAG', 'SAM', 'SAM', 'SAM', 'SHAGRAT', 'SHAGRAT', 'SAM', 'FRODO', 'FRODO', 'SAM', 'ARAGORN', 'ARAGORN', 'LEGOLAS', 'ARAGORN', 'SARUMAN VOICE OVER', 'SARUMAN VOICE OVER', 'SARUMAN VOICE OVER ', 'SARUMAN', 'ORC', 'SARUMAN', 'ORC', 'TREEBEARD', 'MERRY', 'TREEBEARD', 'PIPPIN', 'MERRY', 'GOLLUM', 'SAM', 'GOLLUM', 'SAM', 'GOLLUM', 'FRODO', 'GOLLUM', 'SAM', 'GOLLUM', 'FRODO', 'GANDALF', 'FRODO ', 'FRODO', 'SAM', 'FRODO', 'SAM', 'FRODO', 'SAM', 'SAM', 'FRODO', 'SAM', 'FRODO', 'SAM', 'FRODO', 'SAM', 'SAM', 'SAM', 'SHAGRAT', 'SHAGRAT', 'ORC', 'SHAGRAT', 'SAM', 'SHAGRAT', 'SAM', 'ORC', 'SHAGRAT', 'DENETHOR', 'PIPPIN', 'MERRY', 'PIPPIN', 'MERRY', 'URUK-HAI', 'SNAGA', 'UGLUK', 'GRISHNAKH', 'GRISHNAKH', 'UGLUK', 'GRISHNAKH', 'UGLUK', 'PIPPIN', 'MERRY', 'GOTHMOG', 'FARAMIR', 'DAMROD', 'GOTHMOG', 'SOLDIER', 'SOLDIER', 'GANDALF', 'SOLDIER', 'GANDALF', 'ARAGORN', 'ARAGORN', 'THEODEN', 'EOMER', 'MERRY', 'PIPPIN', 'PIPPIN', 'MERRY', 'PIPPIN', 'PIPPIN', 'PIPPIN', 'MERRY', 'PIPPIN', 'MERRY and PIPPIN', 'TREEBEARD', 'TREEBEARD', 'TREEBEARD', 'FRODO', 'SAM', 'SAM', 'FRODO', 'SAM', 'SAM', 'FRODO', 'FRODO', 'SAM', 'GANDALF', 'ARAGORN', 'GANDALF', 'GIMLI', 'GANDALF', 'SARUMAN', 'ORC', 'WILDMAN', 'SARUMAN', 'WILDMAN', 'SARUMAN', 'WILDMAN', 'SARUMAN', 'SARUMAN VOICE OVER', 'MORWEN', 'MORWEN', 'SAM', 'GOLLUM', 'GOLLUM', 'SAM', 'FRODO', 'GOLLUM', 'FRODO', 'SAM', 'GOLLUM', 'GOLLUM', 'FRODO', 'GOLLUM', 'FRODO', 'GOLLUM', 'SAM', 'GOLLUM', 'SAM', 'FRODO', 'SAM', 'FRODO', 'FRODO', 'SAM', 'MERRY', 'STRIDER', 'FRODO', 'STRIDER', 'FRODO', 'STRIDER', 'SARUMAN', 'SARUMAN', 'GIMLI', 'GALADRIEL VOICE-OVER', 'GIMLI', 'GALADRIEL VOICE-OVER', 'SAM', 'GIMLI', 'GIMLI', 'HALDIR', 'HALDIR', 'SAM', 'FRODO', 'SAM', 'FRODO', 'FRODO', 'SAM', 'FRODO', 'SAM', 'FRODO', 'SAM', 'FRODO', 'FRODO', 'SAM', 'SAM', 'FRODO', 'BILBO', 'FRODO', 'BILBO', 'BILBO', 'BILBO', 'ELROND', 'BOROMIR', 'ARAGORN', 'BOROMIR', 'ARAGORN', 'BOROMIR', 'BOROMIR', 'ARWEN', 'PIPPIN', 'DENETHOR', 'PIPPIN', 'DENETHOR', 'SOLDIER', 'SOLDIER', 'PIPPIN', 'SNAGA', 'UGLUK', 'MERRY', 'GRISHNAKH', 'MERRY', 'PIPPIN', 'LEGOLAS', 'ARAGORN', 'EOMER', 'GIMLI', 'EOMER', 'LEGOLAS', 'ARAGORN', 'EOMER', 'SOLDIER', 'THEODEN', 'GAMLING', 'THEODEN', 'GAMLING', 'ARAGORN', 'EOWYN', 'MERRY', 'THEODEN', 'GIMLI', 'LEGOLAS', 'THEODEN', 'EOMER', 'PIPPIN', 'TREEBEARD', 'MERRY', 'TREEBEARD', 'PIPPIN', 'TREEBEARD', 'MERRY', 'PIPPIN', 'TREEBEARD', 'GANDALF', 'EOWYN', 'GANDALF', 'GRIMA', 'GANDALF', 'ARAGORN', 'GIMLI', 'ARAGORN', 'EOMER', 'ARAGORN', 'LEGOLAS', 'GIMLI', 'GANDALF', 'ARAGORN', 'ARAGORN', 'EOTHAIN', 'FREDA', 'MORWEN', 'MORWEN', 'SARUMAN VOICE OVER', 'EOMER', 'ROHAN HORSEMAN', 'EOMER', 'ROHAN HORSEMAN', 'EOMER', 'EOWYN', 'EOWYN', 'EOMER', 'GRIMA', 'FRODO', 'GOLLUM', 'FRODO', 'GOLLUM', 'FRODO', 'GOLLUM', 'FRODO', 'GOLLUM', 'GOLLUM', 'SAM', 'GOLLUM', 'FRODO', 'FRODO', 'SAM', 'GOLLUM', 'SAM', 'GOLLUM', 'PIPPIN', 'GANDALF', 'GANDALF', 'GANDALF', 'PIPPIN', 'GANDALF', 'PIPPIN', 'GANDALF', 'PIPPIN', 'GANDALF', 'CAPTAIN', 'SAURON VOICE', 'ORC', 'SARUMAN', 'ORC', 'SARUMAN', 'STRIDER', 'STRIDER', 'MERRY', 'PIPPIN', 'MERRY', 'FRODO', 'MERRY', 'SAM', 'SAM', 'SAM', 'PIPPIN', 'STRIDER', 'MERRY', 'STRIDER', 'LEGOLAS', 'HALDIR', 'ARAGORN', 'GIMLI', 'HALDIR', 'GIMLI', 'ARAGORN', 'HALDIR', 'ARAGORN', 'ARAGORN', 'HALDIR', 'ARAGORN', 'GANDALF', 'SAM', 'SAM', 'FRODO', 'SAM', 'FRODO', 'GOLLUM', 'FRODO', 'GOLLUM', 'GOLLUM', 'GOLLUM', 'SAM ', 'GOLLUM', 'SAM', 'FRODO', 'GOLLUM', 'SAM', 'FRODO', 'SAM', 'FRODO', 'GANDALF', 'FRODO', 'GANDALF', 'GANDALF VOICEOVER', 'BOROMIR', 'ARAGORN', 'MERRY', 'PIPPIN', 'GIMLI', 'GANDALF', 'PIPPIN', 'BOROMIR', 'MERRY', 'PIPPIN', 'ARAGORN', 'ARAGORN', 'ARWEN', 'ARWEN', 'ARAGORN', 'ARWEN', 'ARAGORN', 'ARWEN', 'ARWEN', 'ARAGORN', 'ARWEN', 'ELROND', 'BOROMIR', 'BOROMIR', 'ARAGORN', 'EOMER', 'GIMLI', 'ARAGORN', 'EOMER', 'GIMLI', 'EOMER', 'EOMER', 'EOMER', 'GIMLI', 'LEGOLAS', 'ARAGORN', 'GRIMA', 'EOWYN', 'GRIMA', 'EOWYN', 'GIMLI', 'HAMA', 'HAMA', 'GANDALF', 'GRIMA', 'GANDALF', 'GRIMA', 'THEODEN', 'GRIMA', 'GANDALF', 'GRIMA', 'THEODEN', 'EOMER', 'GRIMA', 'EOMER', 'EOMER', 'GRIMA', 'GRIMA', 'EOMER', 'GRIMA', 'GOLLUM', 'GOLLUM', 'SAM', 'GOLLUM', 'GIMLI', 'ARAGORN', 'GIMLI', 'LEGOLAS', 'LEGOLAS', 'ARAGORN', 'GIMLI', 'LEGOLAS', 'GIMLI', 'LEGOLAS', 'GANDALF', 'PIPPIN', 'PIPPIN', 'GANDALF', 'GOLLUM', 'GOLLUM', 'GOLLUM', 'GOLLUM', 'SAM', 'GOLLUM', 'GOLLUM', 'SAM', 'FRODO', 'FRODO', 'PIPPIN', 'FRODO', 'SAM', 'SAM', 'FRODO', 'SAM', 'STRIDER', 'STRIDER', 'SAM', 'STRIDER', 'FRODO VOICE', 'SAM', 'STRIDER', 'SAM', 'STRIDER', 'ARWEN', 'ARWEN', 'MERRY', 'ARWEN', 'SAM', 'ARWEN', 'ARWEN', 'ARWEN', 'STRIDER', 'ARWEN', 'STRIDER', 'GALADRIEL VOICE OVER', 'GALADRIEL VOICE OVER', 'GALADRIEL VOICE OVER', 'THEODEN', 'THEODEN', 'PEOPLE', 'EOMER', 'FRODO', 'GANDALF', 'FRODO', 'GANDALF', 'FRODO', 'GANDALF', 'GIMLI', 'GIMLI', 'GANDALF', 'LEGOLAS', 'GIMLI', 'GANDALF', 'MERRY', 'GANDALF', 'GANDALF', 'FRODO', 'GOLLUM', 'FRODO', 'GOLLUM', 'SAM', 'SAM', 'FRODO', 'SAM', 'FRODO', 'GOLLUM', 'FRODO', 'GOLLUM', 'FRODO', 'SMEAGOL', 'GOLLUM', 'SMEAGOL', 'SAM', 'FRODO', 'PIPPIN', 'MERRY', 'SAM', 'FRODO', 'MERRY', 'SAM', 'MERRY', 'FARMER MAGGOT', 'MERRY', 'PIPPIN', 'PIPPIN', 'SAM', 'GIMLI', 'BOROMIR', 'LEGOLAS', 'ARAGORN', 'BOROMIR', 'ARAGORN', 'GANDALF', 'ARAGORN', 'ARAGORN', 'BOROMIR', 'ARAGORN', 'BOROMIR', 'ELROND', 'GANDALF', 'ELROND', 'GANDALF', 'BOROMIR', 'ARAGORN', 'BOROMIR', 'BOROMIR', 'LEGOLAS', 'ARAGORN', 'BOROMIR', 'GANDALF', 'ELROND', 'GIMLI', 'ELROND', 'GIMLI', 'ARAGORN', 'ARAGORN', 'ARAGORN', 'ARAGORN', 'MERRY', 'ARAGORN ', 'ARAGORN', 'GIMLI', 'GANDALF', 'GIMLI', 'GANDALF', 'THEODEN', 'GANDALF', 'ARAGORN', 'THEODEN', 'GANDALF', 'THEODEN', 'GANDALF', 'THEODEN', 'GANDALF', 'THEODEN', 'ARAGORN', 'LEGOLAS', 'ARAGORN', 'ARAGORN', 'WHITE WIZARD', 'ARAGORN', 'ARAGORN', 'ARAGORN', 'LEGOLAS', 'LEGOLAS', 'GANDALF', 'ARAGORN', 'GANDALF', 'GANDALF VOICEOVER', 'GANDALF VOICE OVER', 'SAM', 'GOLLUM', 'FRODO', 'GANDALF', 'GOLLUM', 'GANDALF', 'GOLLUM', 'SAM', 'FRODO', 'SAM', 'GANDALF', 'PIPPIN', 'ARWEN', 'MERRY AND PIPPIN', 'PIPPIN', 'GAFFER', 'NOAKES', 'SANDYMAN', 'BILBO', 'FRODO', 'ELROND', 'ELROND', 'FIGWIT', 'ARWEN', 'ELROND', 'ARWEN', 'ELROND', 'ARWEN', 'GALADRIEL VOICE OVER', 'GALADRIEL VOICE OVER', 'ELROND', 'ELROND', 'GALADRIEL VOICE OVER', 'GALADRIEL VOICE OVER', 'GALADRIEL VOICE OVER', 'GALADRIEL VOICE OVER', 'GOLLUM', 'GALADRIEL VOICE OVER', 'GOLLUM', 'GALADRIEL VOICE OVER', 'BILBO', 'GALADRIEL VOICE OVER', 'GIMLI', 'LEGOLAS', 'ROHIRRIM', 'GIMLI', 'GENERAL SHOUT', 'EOWYN', 'THEODEN', 'EOWYN', 'THEODEN', 'THEODEN', 'GIMLI', 'LEGOLAS', 'GIMLI', 'LEGOLAS', 'MERRY and PIPPIN', 'PIPPIN', 'GANDALF', 'PIPPIN', 'GANDALF', 'GANDALF', 'ARAGORN', 'SAM', 'ARAGORN', 'ARAGORN', 'GANDALF', 'FRODO', 'FRODO', 'GANDALF', 'GOLLUM', 'SAM', 'SMEAGOL', 'PIPPIN', 'GRISHNAK', 'UGLUK', 'PIPPIN', 'PIPPIN', 'URUK HAI', 'PIPPIN', 'URUK HAI', 'PIPPIN', 'URUK HAI', 'URUK HAI', 'MERRY', 'PIPPIN', 'MERRY', 'SAM', 'MERRY', 'SAM', 'PIPPIN', 'FRODO', 'FRODO', 'SAM', 'MERRY', 'SAM', 'FRODO', 'PIPPIN', 'SARUMAN', 'SARUMAN VOICEOVER', 'SARUMAN', 'LEGOLAS', 'GANDALF', 'ARAGORN', 'GANDALF', 'SARUMAN', 'BOROMIR', 'ARAGORN', 'GIMLI', 'SARUMAN VOICEOVER', 'SARUMAN', 'SARUMAN VOICEOVER', 'SARUMAN', 'BOROMIR', 'LEGOLAS', 'GIMLI', 'BOROMIR', 'GIMLI', 'GIMLI', 'GANDALF', 'GANDALF', 'GRIMA', 'THEODEN', 'GRIMA', 'ARAGORN', 'GRIMA', 'HAMA', 'THEODEN', 'GANDALF VOICE OVER', 'GANDALF VOICE OVER', 'GANDALF', 'ARAGORN', 'GANDALF', 'GIMLI', 'GANDALF', 'GANDALF', 'GIMLI', 'ARAGORN', 'GANDALF', 'GIMLI', 'GANDALF', 'ARAGORN', 'GANDALF', 'GAFFER', 'FRODO', 'GAFFER', 'SANDYMAN', 'ROSIE', 'HOBBIT', 'SAM', 'FRODO', 'SAM', 'FRODO', 'GANDALF', 'FRODO', 'GANDALF', 'FRODO', 'GANDALF', 'SAM', 'FRODO', 'BILBO', 'MERRY', 'MERRY', 'BILBO', 'MRS BRACEGIRDLE', 'BILBO', 'BILBO', 'BILBO', 'FRODO', 'BILBO', 'ELROND', 'ARWEN', 'ELROND', 'ARWEN', 'ARWEN', 'ARWEN', 'ARWEN', 'ELROND', 'ARWEN', 'GANDALF', 'GANDALF', 'PIPPIN', 'GANDALF', 'GANDALF', 'GANDALF', 'BILBO', 'GOLLUM', 'GALADRIEL', 'BILBO', 'BILBO', 'BILBO VOICEOVER', 'BILBO', 'BILBO', 'GANDALF', 'GANDALF', 'FRODO', 'MERRY', 'MERRY and PIPPIN', 'MERRY', 'ARAGORN', 'GANDALF', 'ARAGORN', 'GANDALF', 'ARAGORN', 'GANDALF', 'GOLLUM', 'SMEAGOL', 'GOLLUM', 'SMEAGOL', 'GOLLUM', 'GIMLI', 'GIMLI', 'GIMLI', 'BOROMIR', 'GIMLI', 'LEGOLAS', 'BOROMIR', 'BOROMIR', 'PIPPIN', 'MERRY', 'PIPPIN', 'MERRY', 'PIPPIN', 'MERRY', 'UGLUK', 'URUK HAI', 'UGLUK', 'PIPPIN', 'UGLUK', 'MERRY', 'PIPPIN', 'FRODO', 'MERRY', 'PIPPIN', 'MERRY', 'PIPPIN', 'MERRY', 'MERRY', 'SAM', 'PIPPIN', 'FRODO', 'PIPPIN', 'GANDALF', 'BOROMIR', 'GANDALF', 'FRODO', 'GANDALF', 'GIMLI', 'GANDALF', 'GIMLI', 'LEGOLAS', 'GANDALF', 'TREEBEARD', 'MERRY', 'TREEBEARD', 'TREEBEARD', 'FRODO', 'GANDALF', 'PIPPIN', 'MERRY', 'PIPPIN', 'MERRY', 'PIPPIN', 'FRODO', 'BILBO', 'MERRY', 'PIPPIN', 'GANDALF', 'CROWD', 'FRODO', 'BILBO', 'PROUDFOOT HOBBIT', 'GANDALF', 'DENETHOR', 'DENETHOR', 'PIPPIN', 'GANDALF', 'PIPPIN', 'DENETHOR', 'PIPPIN', 'GANDALF', 'GANDALF', 'DENETHOR', 'GANDALF', 'DENETHOR', 'GANDALF', 'GANDALF', 'GANDALF', 'FRODO', 'GANDALF', 'GANDALF', 'FRODO', 'GANDALF', 'FRODO', 'BILBO VOICEOVER', 'BILBO', 'FRODO', 'BILBO', 'BILBO', 'FRODO', 'GANDALF', 'SMEAGOL', 'GOLLUM', 'SMEAGOL', 'GOLLUM', 'SMEAGOL', 'GOLLUM', 'SMEAGOL', 'GOLLUM', 'SMEAGOL', 'GOLLUM', 'SMEAGOL', 'GOLLUM', 'SMEAGOL', 'MERRY AND PIPPIN', 'SAM', 'MERRY', 'MERRY', 'FRODO', 'GANDALF', 'BOROMIR', 'GANDALF', 'GANDALF', 'GANDALF', 'GIMLI', 'GANDALF', 'MERRY', 'GANDALF', 'PIPPIN', 'SAM', 'PIPPIN', 'SAM', 'FRODO', 'MERRY', 'FRODO', 'GATEKEEPER', 'FRODO', 'GATEKEEPR', 'FRODO', 'GATEKEEPER', 'MAN', 'FRODO', 'BILBO', 'HOBBIT', 'BILBO', 'PIPPIN', 'GANDALF', 'PIPPIN', 'GANDALF', 'PIPPIN', 'GANDALF', 'PIPPIN', 'GANDALF', 'FRODO', 'GANDALF', 'FRODO', 'GANDALF', 'FRODO', 'GANDALF', 'FRODO', 'GANDALF', 'CHILDREN HOBBITS', 'CHILDREN HOBBITS', 'CHILDREN HOBBITS', 'FRODO', 'SAM', 'GOLLUM', 'FRODO', 'SAM', 'GOLLUM', 'SAM', 'FRODO', 'SAM', 'GOLLUM', 'FRODO', 'SAM', 'FRODO', 'SAM', 'FRODO', 'MERRY', 'PIPPIN', 'SAM', 'PIPPIN', 'MERRY', 'PIPPIN', 'FRODO', 'GANDALF', 'FRODO', 'GANDALF', 'FRODO', 'GANDALF', 'FRODO', 'GANDALF', 'FRODO', 'GANDALF', 'BARLIMAN', 'FRODO', 'BARLIMAN', 'FRODO', 'BARLIMAN', 'SAM', 'FRODO', 'PIPPIN', 'MERRY', 'PIPPIN', 'MERRY', 'PIPPIN', 'SAM', 'SAM', 'GANDALF', 'BILBO', 'GANDALF', 'BILBO', 'GANDALF', 'BILBO', 'GANDALF', 'BILBO', 'BILBO', 'BILBO', 'GANDALF', 'GANDALF', 'BILBO', 'SAM', 'FRODO', 'EOWYN', 'EOWYN', 'ARAGORN', 'LEGOLAS', 'MERRY', 'MERRY', 'MERRY', 'MERRY', 'PIPPIN', 'MERRY', 'MERRY', 'MERRY', 'MERRY', 'GANDALF', 'GANDALF', 'SAM', 'GIMLI', 'GANDALF', 'GIMLI', 'GANDALF', 'LEGOLAS', 'GANDALF', 'GANDALF', 'SAM', 'LEGOLAS', 'ARAGORN', 'FRODO', 'BARLIMAN', 'FRODO', 'RING', 'PIPPIN', 'FRODO', 'PIPPIN', 'MEN', 'SAURON VOICE', 'STRIDER', 'FRODO', 'STRIDER', 'FRODO', 'STRIDER', 'BILBO', 'GANDALF', 'BILBO', 'GANDALF', 'VOICE', 'BILBO', 'VOICE', 'BILBO', 'GANDALF', 'BILBO', 'GANDALF', 'BILBO', 'GANDALF', 'MERRY', 'LEGOLAS', 'SAURON', 'MERRY', 'MERRY', 'MERRY', 'MERRY', 'GANDALF', 'GANDALF', 'GANDALF', 'PIPPIN', 'GANDALF', 'PIPPIN', 'GANDALF', 'BOROMIR', 'GIMLI', 'ARAGORN', 'FRODO', 'STRIDER', 'FRODO', 'STRIDER', 'SAM', 'STRIDER', 'FRODO', 'STRIDER', 'FRODO', 'STRIDER', 'MERRY', 'FRODO', 'MERRY', 'FRODO', 'BILBO', 'GANDALF', 'BILBO', 'BILBO', 'BILBO', 'PIPPIN', 'GANDALF', 'PIPPIN', 'GANDALF', 'GANDALF', 'GANDALF', 'GAN DALF', 'THEODEN', 'ARAGORN', 'GANDALF', 'ARAGORN', 'SAM', 'STRIDER', 'SAM', 'STRIDER', 'PIPPIN', 'STRIDER', 'PIPPIN', 'MERRY', 'PIPPIN', 'MERRY', 'MERRY', 'GANDALF', 'GANDALF', 'PIPPIN', 'MERRY', 'PIPPIN', 'MERRY', 'PIPPIN', 'MERRY', 'PIPPIN', 'MERRY', 'PIPPIN', 'GANDALF', 'MERRY', 'PIPPIN', 'MERRY', 'PIPPIN', 'PIPPIN', 'MERRY', 'PIPPIN', 'GANDALF', 'PIPPIN', 'ARAGORN', 'MERRY', 'ARAGORN', 'MERRY']\n"
    }
   ],
   "source": [
    "import csv\n",
    "csvfile = open(\"lotr_clean.csv\", \"r\")\n",
    "reader = csv.reader(csvfile, delimiter = \";\")\n",
    "data = list(reader)\n",
    "chars = []\n",
    "for x in range(len(data)):\n",
    "    if x == 0:\n",
    "        continue\n",
    "    chars.append(data[x][1])\n",
    "print(chars)"
   ]
  },
  {
   "cell_type": "markdown",
   "metadata": {},
   "source": [
    "## Nr.2"
   ]
  },
  {
   "cell_type": "code",
   "execution_count": 2,
   "metadata": {
    "tags": []
   },
   "outputs": [
    {
     "output_type": "stream",
     "name": "stdout",
     "text": "Total: 2390\n{'DEAGOL': 3, 'SMEAGOL': 49, '(GOLLUM': 1, 'FRODO': 225, 'MERRY': 137, 'GIMLI': 116, 'GOLLUM': 133, 'SAM': 216, 'GANDALF': 204, 'ARAGORN': 185, 'PIPPIN': 163, 'HOBBIT': 3, 'ROSIE': 2, 'BILBO': 46, 'TREEBEARD': 46, 'SARUMAN': 33, 'THEODEN': 110, 'GALADRIL': 1, 'ELROND': 29, 'GRIMA': 25, 'FRODO VOICE OVER': 2, 'WITCH KING': 8, 'EOWYN': 56, 'FARAMIR': 65, 'ORC': 22, 'Â\\xa0GANDALF': 1, 'SOLDIERS ON GATE': 1, 'GOTHMOG': 14, 'GENERAL': 2, 'CAPTAIN': 2, 'SOLDIER': 36, 'MOUTH OF SAURON': 5, 'EOMER': 36, 'ARMY': 2, 'BOSON': 1, 'MERCENARY': 1, 'EOWYN/MERRY': 1, 'DENETHOR': 45, 'ROHIRRIM': 2, 'GALADRIEL VOICEOVER': 1, 'LEGOLAS': 55, 'GALADRIEL': 3, 'KING OF THE DEAD': 8, 'GRIMBOLD': 1, 'IROLAS': 3, 'ORCS': 3, 'GAMLING': 15, 'MADRIL': 7, 'DAMROD': 2, 'SOLDIERS': 1, 'SOLDIERS IN MINAS TIRITH': 1, 'GANDALF VOICEOVER': 4, 'SOLDIER 1': 1, 'SOLDIER 2': 1, 'WOMAN': 3, 'HALDIR': 7, 'SAM VOICEOVER': 1, 'OLD MAN': 1, 'BOROMIR': 40, 'CROWD': 3, 'ARWEN': 39, 'ELROND VOICEOVER': 2, 'ARWEN VOICEOVER': 1, 'ARAGORN ': 2, 'HAMA': 6, 'SHARKU': 1, 'PEOPLE': 2, 'LADY': 1, 'FREDA': 3, 'MORWEN': 5, 'EYE OF SAURON': 1, 'ROHAN STABLEMAN': 1, 'GORBAG': 3, 'ARGORN': 2, 'GANDALF VOICE OVER': 5, 'BOROMIR ': 1, 'UGLUK': 9, 'SHAGRAT': 9, 'SARUMAN VOICE OVER': 4, 'SARUMAN VOICE OVER ': 1, 'FRODO ': 1, 'URUK-HAI': 1, 'SNAGA': 2, 'GRISHNAKH': 4, 'MERRY and PIPPIN': 3, 'WILDMAN': 3, 'STRIDER': 25, 'GALADRIEL VOICE-OVER': 2, 'EOTHAIN': 1, 'ROHAN HORSEMAN': 2, 'SAURON VOICE': 2, 'SAM ': 1, 'FRODO VOICE': 1, 'GALADRIEL VOICE OVER': 12, 'FARMER MAGGOT': 1, 'WHITE WIZARD': 1, 'MERRY AND PIPPIN': 2, 'GAFFER': 3, 'NOAKES': 1, 'SANDYMAN': 2, 'FIGWIT': 1, 'GENERAL SHOUT': 1, 'GRISHNAK': 1, 'URUK HAI': 5, 'SARUMAN VOICEOVER': 3, 'MRS BRACEGIRDLE': 1, 'BILBO VOICEOVER': 2, 'PROUDFOOT HOBBIT': 1, 'GATEKEEPER': 2, 'GATEKEEPR': 1, 'MAN': 1, 'CHILDREN HOBBITS': 3, 'BARLIMAN': 4, 'RING': 1, 'MEN': 1, 'VOICE': 2, 'SAURON': 1, 'GAN DALF': 1}\n"
    }
   ],
   "source": [
    "import csv\n",
    "csvfile = open(\"lotr_clean.csv\", \"r\")\n",
    "reader = csv.reader(csvfile, delimiter = \";\")\n",
    "data = list(reader)\n",
    "chars = []\n",
    "for x in range(len(data)):\n",
    "    if x == 0:\n",
    "        continue\n",
    "    chars.append(data[x][1])\n",
    "charoccur = dict((x,chars.count(x)) for x in chars)\n",
    "values = charoccur.values()\n",
    "total = sum(values)\n",
    "print(\"Total:\", total)\n",
    "print(charoccur)"
   ]
  },
  {
   "cell_type": "markdown",
   "metadata": {},
   "source": [
    "## Nr.3"
   ]
  },
  {
   "cell_type": "code",
   "execution_count": 3,
   "metadata": {},
   "outputs": [],
   "source": [
    "import csv\n",
    "csvfile = open(\"lotr_clean.csv\", \"r\")\n",
    "reader = csv.reader(csvfile, delimiter = \";\")\n",
    "data = list(reader)\n",
    "chars = []\n",
    "for x in range(len(data)):\n",
    "    if x == 0:\n",
    "        continue\n",
    "    chars.append(data[x][1])\n",
    "charoccur = dict((x,chars.count(x)) for x in chars)\n",
    "csv_name = \"exercise1_3.csv\"\n",
    "csv_columns = [\"chars\", \"occurrence\"]\n",
    "with open(csv_name, \"w\", newline=\"\") as f:\n",
    "        writer = csv.writer(f)\n",
    "        writer.writerow(csv_columns)\n",
    "        writer.writerows(charoccur.items())"
   ]
  },
  {
   "cell_type": "markdown",
   "metadata": {},
   "source": [
    "## Nr.4"
   ]
  },
  {
   "cell_type": "code",
   "execution_count": 4,
   "metadata": {
    "tags": []
   },
   "outputs": [
    {
     "output_type": "stream",
     "name": "stdout",
     "text": "Total: 1320\n{'smeagol': 50, 'deagol': 4, 'gollum': 29, 'gandalf': 71, 'frodo': 149, 'gimli': 15, 'sam': 76, 'aragorn': 36, 'man': 112, 'ring': 123, 'hobbit': 69, 'merry': 39, 'men': 107, 'bilbo': 24, 'treebeard': 7, 'saruman': 39, 'theoden': 29, 'soldier': 4, 'soldiers': 2, 'grima': 5, 'orc': 49, 'orcs': 32, 'pippin': 31, 'denethor': 7, 'faramir': 20, 'sauron': 35, 'eomer': 6, 'gamling': 3, 'grimbold': 1, 'legolas': 11, 'boson': 1, 'army': 14, 'people': 23, 'lady': 10, 'eowyn': 8, 'elrond': 5, 'arwen': 11, 'boromir': 19, 'captain': 7, 'uruk-hai': 3, 'haldir': 4, 'rohirrim': 2, 'voice': 5, 'woman': 2, 'hama': 1, 'freda': 2, 'eothain': 3, 'gaffer': 4, 'rosie': 3, 'galadriel': 1, 'strider': 7}\n"
    }
   ],
   "source": [
    "# Importing modules\n",
    "import csv\n",
    "import re\n",
    "# Reading CSV file\n",
    "def csvfile():\n",
    "    csvfile = open(\"lotr_clean.csv\", \"r\")\n",
    "    reader = csv.reader(csvfile, delimiter = \";\")\n",
    "    return reader\n",
    "# Creating a character list\n",
    "def characterlist_lower(reader):\n",
    "    data = list(reader)\n",
    "    global chars_lower\n",
    "    chars = []\n",
    "    for x in range(len(data)):\n",
    "        if x == 0:\n",
    "            continue\n",
    "        chars.append(data[x][1])\n",
    "    # Making all the strings in the list lowercase\n",
    "    chars_lower = [x.lower() for x in chars]\n",
    "    # Removing duplicates\n",
    "    chars_lower = list(dict.fromkeys(chars_lower))\n",
    "    return chars_lower\n",
    "# Creating a dialogue List\n",
    "def dialoguetext_lower(reader):\n",
    "    data = list(reader)\n",
    "    global split_lower_dialogue\n",
    "    dialogue = []\n",
    "    for x in range(len(data)):\n",
    "        if x == 0:\n",
    "            continue\n",
    "        dialogue.append(data[x][2])\n",
    "    # Making all the strings in the list lowercase\n",
    "    dialogue_lower = [x.lower() for x in dialogue]\n",
    "    # Splitting all the sentences of the list into single words/strings\n",
    "    split_lower_dialogue = []\n",
    "    for words in dialogue_lower:\n",
    "        split_lower_dialogue.extend(words.split())\n",
    "    return split_lower_dialogue\n",
    "# Checking wether there are character names in the dialogue or not\n",
    "def check_char_in_dialogue(chars_lower, split_lower_dialogue):\n",
    "    result = []\n",
    "    for words1 in range(len(split_lower_dialogue)):\n",
    "        for words2 in range(len(chars_lower)):\n",
    "            if chars_lower[words2] in split_lower_dialogue[words1]:\n",
    "                result.append(chars_lower[words2])\n",
    "    occurrence = dict((x,result.count(x)) for x in result)\n",
    "    values = occurrence.values()\n",
    "    total = sum(values)\n",
    "    print(\"Total: \", total, \"\\n\",occurrence, sep=\"\")\n",
    "characterlist_lower(csvfile())\n",
    "dialoguetext_lower(csvfile())\n",
    "check_char_in_dialogue(characterlist_lower(csvfile()), dialoguetext_lower(csvfile()))"
   ]
  }
 ],
 "metadata": {
  "kernelspec": {
   "display_name": "Python 3.8.0 64-bit",
   "language": "python",
   "name": "python38064bit604ea35cef5f47b299242b69d90df170"
  },
  "language_info": {
   "codemirror_mode": {
    "name": "ipython",
    "version": 3
   },
   "file_extension": ".py",
   "mimetype": "text/x-python",
   "name": "python",
   "nbconvert_exporter": "python",
   "pygments_lexer": "ipython3",
   "version": "3.8.0-final"
  }
 },
 "nbformat": 4,
 "nbformat_minor": 4
}