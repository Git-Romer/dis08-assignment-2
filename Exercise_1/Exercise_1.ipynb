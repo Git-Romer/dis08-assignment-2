{
 "cells": [
  {
   "cell_type": "markdown",
   "metadata": {},
   "source": [
    "# This Notebook contains all solutions from the Exercise 1"
   ]
  },
  {
   "cell_type": "markdown",
   "metadata": {},
   "source": [
    "## Exercise 1"
   ]
  },
  {
   "cell_type": "markdown",
   "metadata": {},
   "source": [
    "### Nr. 1"
   ]
  },
  {
   "cell_type": "code",
   "execution_count": null,
   "metadata": {
    "tags": [
     "outputPrepend"
    ]
   },
   "outputs": [],
   "source": [
    "import csv\n",
    "csvfile = open(\"lotr_clean.csv\", \"r\")\n",
    "reader = csv.reader(csvfile, delimiter = \";\")\n",
    "data = list(reader)\n",
    "chars = []\n",
    "for x in range(len(data)):\n",
    "    if x == 0:\n",
    "        continue\n",
    "    chars.append(data[x][1])\n",
    "print(chars)"
   ]
  },
  {
   "cell_type": "markdown",
   "metadata": {},
   "source": [
    "## Nr.2"
   ]
  },
  {
   "cell_type": "code",
   "execution_count": null,
   "metadata": {
    "tags": [
     "outputPrepend",
     "outputPrepend",
     "outputPrepend",
     "outputPrepend",
     "outputPrepend",
     "outputPrepend",
     "outputPrepend",
     "outputPrepend",
     "outputPrepend",
     "outputPrepend"
    ]
   },
   "outputs": [],
   "source": [
    "import csv\n",
    "csvfile = open(\"lotr_clean.csv\", \"r\")\n",
    "reader = csv.reader(csvfile, delimiter = \";\")\n",
    "data = list(reader)\n",
    "chars = []\n",
    "for x in range(len(data)):\n",
    "    if x == 0:\n",
    "        continue\n",
    "    chars.append(data[x][1])\n",
    "charoccur = dict((x,chars.count(x)) for x in chars)\n",
    "values = charoccur.values()\n",
    "total = sum(values)\n",
    "print(\"Total:\", total)\n",
    "print(charoccur)"
   ]
  },
  {
   "cell_type": "markdown",
   "metadata": {},
   "source": [
    "## Nr.3"
   ]
  },
  {
   "cell_type": "code",
   "execution_count": null,
   "metadata": {},
   "outputs": [],
   "source": [
    "import csv\n",
    "csvfile = open(\"lotr_clean.csv\", \"r\")\n",
    "reader = csv.reader(csvfile, delimiter = \";\")\n",
    "data = list(reader)\n",
    "chars = []\n",
    "for x in range(len(data)):\n",
    "    if x == 0:\n",
    "        continue\n",
    "    chars.append(data[x][1])\n",
    "charoccur = dict((x,chars.count(x)) for x in chars)\n",
    "csv_name = \"exercise1_3.csv\"\n",
    "csv_columns = [\"chars\", \"occurrence\"]\n",
    "with open(csv_name, \"w\", newline=\"\") as f:\n",
    "        writer = csv.writer(f)\n",
    "        writer.writerow(csv_columns)\n",
    "        writer.writerows(charoccur.items())"
   ]
  },
  {
   "cell_type": "code",
   "execution_count": null,
   "metadata": {},
   "outputs": [],
   "source": []
  }
 ],
 "metadata": {
  "kernelspec": {
   "display_name": "Python 3.8.0 64-bit",
   "language": "python",
   "name": "python38064bit604ea35cef5f47b299242b69d90df170"
  },
  "language_info": {
   "codemirror_mode": {
    "name": "ipython",
    "version": 3
   },
   "file_extension": ".py",
   "mimetype": "text/x-python",
   "name": "python",
   "nbconvert_exporter": "python",
   "pygments_lexer": "ipython3",
   "version": "3.8.0-final"
  }
 },
 "nbformat": 4,
 "nbformat_minor": 4
}